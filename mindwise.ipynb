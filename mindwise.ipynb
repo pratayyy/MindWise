{
  "nbformat": 4,
  "nbformat_minor": 0,
  "metadata": {
    "colab": {
      "provenance": [],
      "authorship_tag": "ABX9TyPITDK+tBW4mVjAv48JuT6i",
      "include_colab_link": true
    },
    "kernelspec": {
      "name": "python3",
      "display_name": "Python 3"
    },
    "language_info": {
      "name": "python"
    }
  },
  "cells": [
    {
      "cell_type": "markdown",
      "metadata": {
        "id": "view-in-github",
        "colab_type": "text"
      },
      "source": [
        "<a href=\"https://colab.research.google.com/github/pratayyy/MindWise/blob/main/mindwise.ipynb\" target=\"_parent\"><img src=\"https://colab.research.google.com/assets/colab-badge.svg\" alt=\"Open In Colab\"/></a>"
      ]
    },
    {
      "cell_type": "code",
      "execution_count": 1,
      "metadata": {
        "id": "iR3_07CmtwJo"
      },
      "outputs": [],
      "source": [
        "import numpy as np\n",
        "import time\n",
        "import cv2\n",
        "import gym\n",
        "import random\n",
        "from gym import spaces\n",
        "from google.colab import widgets\n",
        "import matplotlib.pyplot as plt\n",
        "from matplotlib.offsetbox import OffsetImage, AnnotationBbox"
      ]
    },
    {
      "cell_type": "code",
      "source": [
        "from enum import Enum\n",
        "\n",
        "MAX_TIMESTEPS = 300\n",
        "GAMMA = 0.99\n",
        "ALPHA = 0.3\n",
        "EPSILON = 1.0\n",
        "EPISODES = 1000\n",
        "\n",
        "class Environment(Enum):\n",
        "  Deterministic = 1\n",
        "  Stochastic = 2\n",
        "\n",
        "class Agent(Enum):\n",
        "  QLearning = 1  \n",
        "  DoubleQLearning = 2\n"
      ],
      "metadata": {
        "id": "FNGL1dN-1BUq"
      },
      "execution_count": 2,
      "outputs": []
    },
    {
      "cell_type": "code",
      "source": [
        "from dataclasses import dataclass\n",
        "@dataclass\n",
        "class LearningParameter:\n",
        "  # Default values of learning parameters\n",
        "    epsilon: float = EPSILON \n",
        "    gamma: float = GAMMA\n",
        "    alpha: float = ALPHA\n",
        "    max_timesteps: int = MAX_TIMESTEPS\n",
        "    episodes: int = EPISODES\n",
        "    epsilon_decay:float = 0.99\n",
        "@dataclass\n",
        "class Experience:\n",
        "    state: int = None \n",
        "    action: int = None\n",
        "    next_state: int = None\n",
        "    reward: float = None   \n",
        "    done: bool = None   "
      ],
      "metadata": {
        "id": "PNIWdc3D3F6H"
      },
      "execution_count": 3,
      "outputs": []
    }
  ]
}