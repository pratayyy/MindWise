{
  "nbformat": 4,
  "nbformat_minor": 0,
  "metadata": {
    "colab": {
      "provenance": [],
      "authorship_tag": "ABX9TyPcRpxMrZFxPESSxvclP/Sr",
      "include_colab_link": true
    },
    "kernelspec": {
      "name": "python3",
      "display_name": "Python 3"
    },
    "language_info": {
      "name": "python"
    }
  },
  "cells": [
    {
      "cell_type": "markdown",
      "metadata": {
        "id": "view-in-github",
        "colab_type": "text"
      },
      "source": [
        "<a href=\"https://colab.research.google.com/github/pratayyy/MindWise/blob/main/mindwise.ipynb\" target=\"_parent\"><img src=\"https://colab.research.google.com/assets/colab-badge.svg\" alt=\"Open In Colab\"/></a>"
      ]
    },
    {
      "cell_type": "code",
      "execution_count": 1,
      "metadata": {
        "id": "iR3_07CmtwJo"
      },
      "outputs": [],
      "source": [
        "import numpy as np\n",
        "import time\n",
        "import cv2\n",
        "import gym\n",
        "import random\n",
        "from gym import spaces\n",
        "from google.colab import widgets\n",
        "import matplotlib.pyplot as plt\n",
        "from matplotlib.offsetbox import OffsetImage, AnnotationBbox"
      ]
    },
    {
      "cell_type": "code",
      "source": [
        "from enum import Enum\n",
        "\n",
        "MAX_TIMESTEPS = 300\n",
        "GAMMA = 0.99\n",
        "ALPHA = 0.3\n",
        "EPSILON = 1.0\n",
        "EPISODES = 1000\n",
        "\n",
        "class Environment(Enum):\n",
        "  Deterministic = 1\n",
        "  Stochastic = 2\n",
        "\n",
        "class Agent(Enum):\n",
        "  QLearning = 1  \n",
        "  DoubleQLearning = 2\n"
      ],
      "metadata": {
        "id": "FNGL1dN-1BUq"
      },
      "execution_count": 2,
      "outputs": []
    }
  ]
}